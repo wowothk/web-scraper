{
 "metadata": {
  "language_info": {
   "codemirror_mode": {
    "name": "ipython",
    "version": 3
   },
   "file_extension": ".py",
   "mimetype": "text/x-python",
   "name": "python",
   "nbconvert_exporter": "python",
   "pygments_lexer": "ipython3",
   "version": "3.8.5-final"
  },
  "orig_nbformat": 2,
  "kernelspec": {
   "name": "python3",
   "display_name": "Python 3",
   "language": "python"
  }
 },
 "nbformat": 4,
 "nbformat_minor": 2,
 "cells": [
  {
   "cell_type": "code",
   "execution_count": 66,
   "metadata": {},
   "outputs": [],
   "source": [
    "from selenium import webdriver\n",
    "from bs4 import BeautifulSoup\n",
    "from webdriver_manager.chrome import ChromeDriverManager\n",
    "import re\n",
    "import pandas as pd"
   ]
  },
  {
   "cell_type": "code",
   "execution_count": 10,
   "metadata": {
    "tags": []
   },
   "outputs": [
    {
     "output_type": "stream",
     "name": "stderr",
     "text": [
      "[WDM] - Current google-chrome version is 87.0.4280\n",
      "[WDM] - Get LATEST driver version for 87.0.4280\n",
      " \n",
      "[WDM] - Driver [/home/rudi/.wdm/drivers/chromedriver/linux64/87.0.4280.88/chromedriver] found in cache\n"
     ]
    }
   ],
   "source": [
    "opts=webdriver.ChromeOptions()\n",
    "opts.headless=True\n",
    "driver = webdriver.Chrome(ChromeDriverManager().install() ,options=opts)\n",
    "\n",
    "driver.get(\"https://pergikuliner.com/restaurants/jakarta/bakmi-bintang-gading-kelapa-gading\")\n",
    "\n",
    "content = driver.page_source\n",
    "soup = BeautifulSoup(content)"
   ]
  },
  {
   "cell_type": "code",
   "execution_count": 87,
   "metadata": {},
   "outputs": [],
   "source": [
    "# revbox = soup.findAll('div', attrs={\"class\": \"review-wrapper\"})\n",
    "revbox = soup.find('div', attrs={\"class\": \"review-wrapper\"})"
   ]
  },
  {
   "cell_type": "code",
   "execution_count": 53,
   "metadata": {},
   "outputs": [],
   "source": [
    "# user_information\n",
    "usr = revbox.find('div', attrs={\"class\": \"usr-info\"})\n",
    "username = usr.find(\"span\", attrs={\"itemprop\": \"name\"}).text\n",
    "review_count = usr.div.findAll('p')[-2].text.split()[0]\n",
    "user_level = usr.div.findAll('p')[-1].text.split()[1]"
   ]
  },
  {
   "cell_type": "code",
   "execution_count": 36,
   "metadata": {},
   "outputs": [
    {
     "output_type": "execute_result",
     "data": {
      "text/plain": [
       "'salah satu bakmi favorit di kelapa gading, order via grabfood karena ada promo dan enaknya ga kalah dari dine in. suka banget sama tekstur mie kecilnya, lembut tipis tipis dan kenyal pas. aroma bakmi nya juga wangi daging nya empuk, packaging nya juga ok aman semua dipisah2 jadi lebih higienis. highly recommended!!'"
      ]
     },
     "metadata": {},
     "execution_count": 36
    }
   ],
   "source": [
    "# review\n",
    "review = revbox.find('div', attrs={'class':'top-part'}).p.text\n",
    "review"
   ]
  },
  {
   "cell_type": "code",
   "execution_count": 48,
   "metadata": {},
   "outputs": [],
   "source": [
    "tanggal = revbox.find(\"div\", attrs={'class': 'bottom-part'}).findAll('span')[0].text.split(\":\")[1]"
   ]
  },
  {
   "cell_type": "code",
   "execution_count": 54,
   "metadata": {},
   "outputs": [
    {
     "output_type": "stream",
     "name": "stdout",
     "text": [
      " Fioo | @eatingforlyfe  213 11 salah satu bakmi favorit di kelapa gading, order via grabfood karena ada promo dan enaknya ga kalah dari dine in. suka banget sama tekstur mie kecilnya, lembut tipis tipis dan kenyal pas. aroma bakmi nya juga wangi daging nya empuk, packaging nya juga ok aman semua dipisah2 jadi lebih higienis. highly recommended!!  03 November 2020\n"
     ]
    }
   ],
   "source": [
    "print(re.sub(\"\\s+\", \" \",username), review_count, user_level, review, tanggal)"
   ]
  },
  {
   "cell_type": "code",
   "execution_count": 89,
   "metadata": {},
   "outputs": [
    {
     "output_type": "execute_result",
     "data": {
      "text/plain": [
       "                            username review_count user_level  \\\n",
       "0             Fioo | @eatingforlyfe           213         11   \n",
       "1                    @eatfoodtravel           416         12   \n",
       "2                           vio kal           203         12   \n",
       "3           Makan2 TV Food & Travel           657         15   \n",
       "4                Julian with danisa           150          9   \n",
       "5                       Indra Mulia          2151         19   \n",
       "6                  inggie @makandll           431         13   \n",
       "7                  IG: waktukumakan            13          3   \n",
       "8                             Andri           210         11   \n",
       "9                        Fransiscus          1139         17   \n",
       "10            Fioo | @eatingforlyfe           213         11   \n",
       "11                   @eatfoodtravel           416         12   \n",
       "12                          vio kal           203         12   \n",
       "13          Makan2 TV Food & Travel           657         15   \n",
       "14               Julian with danisa           150          9   \n",
       "15                      Indra Mulia          2151         19   \n",
       "16                 inggie @makandll           431         13   \n",
       "17                 IG: waktukumakan            13          3   \n",
       "18                            Andri           210         11   \n",
       "19                       Fransiscus          1139         17   \n",
       "20                        melisa_10           269         11   \n",
       "21                  Albertus Andika             3          1   \n",
       "22   Jessica | IG: @snapfoodjourney           288         12   \n",
       "23                   Food Lovers Id            37          5   \n",
       "24      Oppa Kuliner (@oppakuliner)           965         17   \n",
       "25                  Martha Juliette            17          3   \n",
       "26                  Anastasya Yusuf           294         12   \n",
       "27                   Fahmi Putrinia             4          1   \n",
       "28                  Drummer Kuliner           267         12   \n",
       "29                    Chibiy Chibiy           116         10   \n",
       "30             IG = @FOODPROJECT_ID           157          9   \n",
       "31        Ladyonaf @placetogoandeat          2766         23   \n",
       "32                   Elvira Sutanto           891         16   \n",
       "33                        Tirta Lie          1690         19   \n",
       "34                           celine            51          6   \n",
       "35                        UrsAndNic          2402         22   \n",
       "36               Olivia Purnamasari            21          4   \n",
       "37                       Selli Yang           342         12   \n",
       "\n",
       "              datetime                                             review  \n",
       "0     03 November 2020  salah satu bakmi favorit di kelapa gading, ord...  \n",
       "1      29 Oktober 2020  Ordered mie ujung pandang with some babi garin...  \n",
       "2         23 Juni 2020  Balik lagi makan di @bakmibintanggadingofficia...  \n",
       "3      06 Oktober 2019  Bakmi Bintang Gading merupakan salah satu temp...  \n",
       "4      30 Agustus 2019  Siang ini tiba tiba kepengen makan Bakmi Binta...  \n",
       "5        30 Maret 2019  Sabtu pagi sarapan sama makanan khas Makassar ...  \n",
       "6      13 Oktober 2018  Enak, porsi sangat mengenyangkan.Tempat ok, se...  \n",
       "7    10 September 2018   Kali ini kita cicipi makanan khas Makassar du...  \n",
       "8         28 Juli 2018   Ini restoran udah lama banget ada dikelapa ga...  \n",
       "9          26 Mei 2018  Mencicipi salah satu resep bakmie khas Makassa...  \n",
       "10    03 November 2020  salah satu bakmi favorit di kelapa gading, ord...  \n",
       "11     29 Oktober 2020  Ordered mie ujung pandang with some babi garin...  \n",
       "12        23 Juni 2020  Balik lagi makan di @bakmibintanggadingofficia...  \n",
       "13     06 Oktober 2019  Bakmi Bintang Gading merupakan salah satu temp...  \n",
       "14     30 Agustus 2019  Siang ini tiba tiba kepengen makan Bakmi Binta...  \n",
       "15       30 Maret 2019  Sabtu pagi sarapan sama makanan khas Makassar ...  \n",
       "16     13 Oktober 2018  Enak, porsi sangat mengenyangkan.Tempat ok, se...  \n",
       "17   10 September 2018   Kali ini kita cicipi makanan khas Makassar du...  \n",
       "18        28 Juli 2018   Ini restoran udah lama banget ada dikelapa ga...  \n",
       "19         26 Mei 2018  Mencicipi salah satu resep bakmie khas Makassa...  \n",
       "20       27 April 2018    Malem2 nyobain pangsit mie Ujung Pandang yan...  \n",
       "21    24 Februari 2018  Aku suka banget nih kesini, makan bakmie binta...  \n",
       "22    24 Februari 2018   Terlalu sering ke Bintang Gading sampai lupa ...  \n",
       "23   11 September 2017  Naaah! Foodlovers! Tau gak sih selain bakmie u...  \n",
       "24        23 Juni 2017   This is my second time nyobain bakmi ini lagi...  \n",
       "25       04 Maret 2017   Kalo ngebahas makanan khas Indonesia itu mema...  \n",
       "26       04 Maret 2017  Tidak terlalu banyak jenis bakmi dengan toppin...  \n",
       "27    27 Februari 2017   Ujan ujan mampir ke bintang gading. Hehe. Bak...  \n",
       "28    02 Februari 2017  Kedai mie pangsit ujung pandang yang cukup ban...  \n",
       "29     17 Januari 2017  Serupa tapi tak sama dengan Bakmi Baji Pamai. ...  \n",
       "30    04 Desember 2016  Salah satu mie di daerah tmptku yg bikin ngida...  \n",
       "31        27 Juni 2016  Bakminya orang kelapa gading karena hampir rat...  \n",
       "32    28 Februari 2016  Prtama kalinya cobain bakmi bintang gading krn...  \n",
       "33        11 Juni 2015  Didapatkan informasi bahwa koki bakmi bintang ...  \n",
       "34         14 Mei 2015  Walaupun nama tempatnya Bakmi Bintang Gading t...  \n",
       "35     29 Januari 2015  Bakmi Bintang Gading ini selalu ramai,untung k...  \n",
       "36    30 Desember 2014   ini salah satu resto yang cukup sering saya k...  \n",
       "37     15 Oktober 2014  Mie nya kuahnya bda yah berasa aja kaldu nya s...  "
      ],
      "text/html": "<div>\n<style scoped>\n    .dataframe tbody tr th:only-of-type {\n        vertical-align: middle;\n    }\n\n    .dataframe tbody tr th {\n        vertical-align: top;\n    }\n\n    .dataframe thead th {\n        text-align: right;\n    }\n</style>\n<table border=\"1\" class=\"dataframe\">\n  <thead>\n    <tr style=\"text-align: right;\">\n      <th></th>\n      <th>username</th>\n      <th>review_count</th>\n      <th>user_level</th>\n      <th>datetime</th>\n      <th>review</th>\n    </tr>\n  </thead>\n  <tbody>\n    <tr>\n      <th>0</th>\n      <td>Fioo | @eatingforlyfe</td>\n      <td>213</td>\n      <td>11</td>\n      <td>03 November 2020</td>\n      <td>salah satu bakmi favorit di kelapa gading, ord...</td>\n    </tr>\n    <tr>\n      <th>1</th>\n      <td>@eatfoodtravel</td>\n      <td>416</td>\n      <td>12</td>\n      <td>29 Oktober 2020</td>\n      <td>Ordered mie ujung pandang with some babi garin...</td>\n    </tr>\n    <tr>\n      <th>2</th>\n      <td>vio kal</td>\n      <td>203</td>\n      <td>12</td>\n      <td>23 Juni 2020</td>\n      <td>Balik lagi makan di @bakmibintanggadingofficia...</td>\n    </tr>\n    <tr>\n      <th>3</th>\n      <td>Makan2 TV Food &amp; Travel</td>\n      <td>657</td>\n      <td>15</td>\n      <td>06 Oktober 2019</td>\n      <td>Bakmi Bintang Gading merupakan salah satu temp...</td>\n    </tr>\n    <tr>\n      <th>4</th>\n      <td>Julian with danisa</td>\n      <td>150</td>\n      <td>9</td>\n      <td>30 Agustus 2019</td>\n      <td>Siang ini tiba tiba kepengen makan Bakmi Binta...</td>\n    </tr>\n    <tr>\n      <th>5</th>\n      <td>Indra Mulia</td>\n      <td>2151</td>\n      <td>19</td>\n      <td>30 Maret 2019</td>\n      <td>Sabtu pagi sarapan sama makanan khas Makassar ...</td>\n    </tr>\n    <tr>\n      <th>6</th>\n      <td>inggie @makandll</td>\n      <td>431</td>\n      <td>13</td>\n      <td>13 Oktober 2018</td>\n      <td>Enak, porsi sangat mengenyangkan.Tempat ok, se...</td>\n    </tr>\n    <tr>\n      <th>7</th>\n      <td>IG: waktukumakan</td>\n      <td>13</td>\n      <td>3</td>\n      <td>10 September 2018</td>\n      <td>Kali ini kita cicipi makanan khas Makassar du...</td>\n    </tr>\n    <tr>\n      <th>8</th>\n      <td>Andri</td>\n      <td>210</td>\n      <td>11</td>\n      <td>28 Juli 2018</td>\n      <td>Ini restoran udah lama banget ada dikelapa ga...</td>\n    </tr>\n    <tr>\n      <th>9</th>\n      <td>Fransiscus</td>\n      <td>1139</td>\n      <td>17</td>\n      <td>26 Mei 2018</td>\n      <td>Mencicipi salah satu resep bakmie khas Makassa...</td>\n    </tr>\n    <tr>\n      <th>10</th>\n      <td>Fioo | @eatingforlyfe</td>\n      <td>213</td>\n      <td>11</td>\n      <td>03 November 2020</td>\n      <td>salah satu bakmi favorit di kelapa gading, ord...</td>\n    </tr>\n    <tr>\n      <th>11</th>\n      <td>@eatfoodtravel</td>\n      <td>416</td>\n      <td>12</td>\n      <td>29 Oktober 2020</td>\n      <td>Ordered mie ujung pandang with some babi garin...</td>\n    </tr>\n    <tr>\n      <th>12</th>\n      <td>vio kal</td>\n      <td>203</td>\n      <td>12</td>\n      <td>23 Juni 2020</td>\n      <td>Balik lagi makan di @bakmibintanggadingofficia...</td>\n    </tr>\n    <tr>\n      <th>13</th>\n      <td>Makan2 TV Food &amp; Travel</td>\n      <td>657</td>\n      <td>15</td>\n      <td>06 Oktober 2019</td>\n      <td>Bakmi Bintang Gading merupakan salah satu temp...</td>\n    </tr>\n    <tr>\n      <th>14</th>\n      <td>Julian with danisa</td>\n      <td>150</td>\n      <td>9</td>\n      <td>30 Agustus 2019</td>\n      <td>Siang ini tiba tiba kepengen makan Bakmi Binta...</td>\n    </tr>\n    <tr>\n      <th>15</th>\n      <td>Indra Mulia</td>\n      <td>2151</td>\n      <td>19</td>\n      <td>30 Maret 2019</td>\n      <td>Sabtu pagi sarapan sama makanan khas Makassar ...</td>\n    </tr>\n    <tr>\n      <th>16</th>\n      <td>inggie @makandll</td>\n      <td>431</td>\n      <td>13</td>\n      <td>13 Oktober 2018</td>\n      <td>Enak, porsi sangat mengenyangkan.Tempat ok, se...</td>\n    </tr>\n    <tr>\n      <th>17</th>\n      <td>IG: waktukumakan</td>\n      <td>13</td>\n      <td>3</td>\n      <td>10 September 2018</td>\n      <td>Kali ini kita cicipi makanan khas Makassar du...</td>\n    </tr>\n    <tr>\n      <th>18</th>\n      <td>Andri</td>\n      <td>210</td>\n      <td>11</td>\n      <td>28 Juli 2018</td>\n      <td>Ini restoran udah lama banget ada dikelapa ga...</td>\n    </tr>\n    <tr>\n      <th>19</th>\n      <td>Fransiscus</td>\n      <td>1139</td>\n      <td>17</td>\n      <td>26 Mei 2018</td>\n      <td>Mencicipi salah satu resep bakmie khas Makassa...</td>\n    </tr>\n    <tr>\n      <th>20</th>\n      <td>melisa_10</td>\n      <td>269</td>\n      <td>11</td>\n      <td>27 April 2018</td>\n      <td>Malem2 nyobain pangsit mie Ujung Pandang yan...</td>\n    </tr>\n    <tr>\n      <th>21</th>\n      <td>Albertus Andika</td>\n      <td>3</td>\n      <td>1</td>\n      <td>24 Februari 2018</td>\n      <td>Aku suka banget nih kesini, makan bakmie binta...</td>\n    </tr>\n    <tr>\n      <th>22</th>\n      <td>Jessica | IG: @snapfoodjourney</td>\n      <td>288</td>\n      <td>12</td>\n      <td>24 Februari 2018</td>\n      <td>Terlalu sering ke Bintang Gading sampai lupa ...</td>\n    </tr>\n    <tr>\n      <th>23</th>\n      <td>Food Lovers Id</td>\n      <td>37</td>\n      <td>5</td>\n      <td>11 September 2017</td>\n      <td>Naaah! Foodlovers! Tau gak sih selain bakmie u...</td>\n    </tr>\n    <tr>\n      <th>24</th>\n      <td>Oppa Kuliner (@oppakuliner)</td>\n      <td>965</td>\n      <td>17</td>\n      <td>23 Juni 2017</td>\n      <td>This is my second time nyobain bakmi ini lagi...</td>\n    </tr>\n    <tr>\n      <th>25</th>\n      <td>Martha Juliette</td>\n      <td>17</td>\n      <td>3</td>\n      <td>04 Maret 2017</td>\n      <td>Kalo ngebahas makanan khas Indonesia itu mema...</td>\n    </tr>\n    <tr>\n      <th>26</th>\n      <td>Anastasya Yusuf</td>\n      <td>294</td>\n      <td>12</td>\n      <td>04 Maret 2017</td>\n      <td>Tidak terlalu banyak jenis bakmi dengan toppin...</td>\n    </tr>\n    <tr>\n      <th>27</th>\n      <td>Fahmi Putrinia</td>\n      <td>4</td>\n      <td>1</td>\n      <td>27 Februari 2017</td>\n      <td>Ujan ujan mampir ke bintang gading. Hehe. Bak...</td>\n    </tr>\n    <tr>\n      <th>28</th>\n      <td>Drummer Kuliner</td>\n      <td>267</td>\n      <td>12</td>\n      <td>02 Februari 2017</td>\n      <td>Kedai mie pangsit ujung pandang yang cukup ban...</td>\n    </tr>\n    <tr>\n      <th>29</th>\n      <td>Chibiy Chibiy</td>\n      <td>116</td>\n      <td>10</td>\n      <td>17 Januari 2017</td>\n      <td>Serupa tapi tak sama dengan Bakmi Baji Pamai. ...</td>\n    </tr>\n    <tr>\n      <th>30</th>\n      <td>IG = @FOODPROJECT_ID</td>\n      <td>157</td>\n      <td>9</td>\n      <td>04 Desember 2016</td>\n      <td>Salah satu mie di daerah tmptku yg bikin ngida...</td>\n    </tr>\n    <tr>\n      <th>31</th>\n      <td>Ladyonaf @placetogoandeat</td>\n      <td>2766</td>\n      <td>23</td>\n      <td>27 Juni 2016</td>\n      <td>Bakminya orang kelapa gading karena hampir rat...</td>\n    </tr>\n    <tr>\n      <th>32</th>\n      <td>Elvira Sutanto</td>\n      <td>891</td>\n      <td>16</td>\n      <td>28 Februari 2016</td>\n      <td>Prtama kalinya cobain bakmi bintang gading krn...</td>\n    </tr>\n    <tr>\n      <th>33</th>\n      <td>Tirta Lie</td>\n      <td>1690</td>\n      <td>19</td>\n      <td>11 Juni 2015</td>\n      <td>Didapatkan informasi bahwa koki bakmi bintang ...</td>\n    </tr>\n    <tr>\n      <th>34</th>\n      <td>celine</td>\n      <td>51</td>\n      <td>6</td>\n      <td>14 Mei 2015</td>\n      <td>Walaupun nama tempatnya Bakmi Bintang Gading t...</td>\n    </tr>\n    <tr>\n      <th>35</th>\n      <td>UrsAndNic</td>\n      <td>2402</td>\n      <td>22</td>\n      <td>29 Januari 2015</td>\n      <td>Bakmi Bintang Gading ini selalu ramai,untung k...</td>\n    </tr>\n    <tr>\n      <th>36</th>\n      <td>Olivia Purnamasari</td>\n      <td>21</td>\n      <td>4</td>\n      <td>30 Desember 2014</td>\n      <td>ini salah satu resto yang cukup sering saya k...</td>\n    </tr>\n    <tr>\n      <th>37</th>\n      <td>Selli Yang</td>\n      <td>342</td>\n      <td>12</td>\n      <td>15 Oktober 2014</td>\n      <td>Mie nya kuahnya bda yah berasa aja kaldu nya s...</td>\n    </tr>\n  </tbody>\n</table>\n</div>"
     },
     "metadata": {},
     "execution_count": 89
    }
   ],
   "source": [
    "def get_reviews(url_post,max_iter = 1000):\n",
    "    driver.get(url_post)\n",
    "    content = driver.page_source\n",
    "    soup = BeautifulSoup(content)\n",
    "    usernames = []\n",
    "    review_counts = []\n",
    "    user_levels = []\n",
    "    reviews = []\n",
    "    datetime = []\n",
    "    for y in range(max_iter):\n",
    "        revbox = soup.findAll('div', attrs={\"class\": \"review-wrapper\"})\n",
    "        iterate = 0\n",
    "        for x in revbox:\n",
    "            usr = x.find('div', attrs={\"class\": \"usr-info\"})\n",
    "            username = re.sub(\"\\s+\",\" \",usr.find(\"span\", attrs={\"itemprop\": \"name\"}).text)\n",
    "            review_count = usr.div.findAll('p')[-2].text.split()[0]\n",
    "            user_level = usr.div.findAll('p')[-1].text.split()[1]\n",
    "            review = x.find('div', attrs={'class':'top-part'}).p.text\n",
    "            tanggal = x.find(\"div\", attrs={\"class\": \"bottom-part\"}).findAll(\"span\")[-2].text.split(\":\")[1]\n",
    "            usernames.append(username) \n",
    "            review_counts.append(review_count)\n",
    "            user_levels.append(user_level)\n",
    "            datetime.append(tanggal)\n",
    "            reviews.append(review)\n",
    "\n",
    "        button = soup.find(\"div\", attrs={\"id\": \"load-review-container\"})\n",
    "        if button.find('a'):\n",
    "            driver.get(url_post + \"?page=\" + str(y+1))\n",
    "            content = driver.page_source\n",
    "            soup = BeautifulSoup(content)\n",
    "        else:\n",
    "            break\n",
    "\n",
    "    return {\n",
    "        \"username\": usernames,\n",
    "        \"review_count\": review_counts,\n",
    "        \"user_level\": user_levels,\n",
    "        \"datetime\": datetime,\n",
    "        \"review\": reviews\n",
    "    }\n",
    "\n",
    "pd.DataFrame(get_reviews(\"https://pergikuliner.com/restaurants/jakarta/bakmi-bintang-gading-kelapa-gading\"))"
   ]
  },
  {
   "cell_type": "code",
   "execution_count": 90,
   "metadata": {},
   "outputs": [],
   "source": [
    "hangtuah_kopi = pd.DataFrame(get_reviews(\"https://pergikuliner.com/restaurants/jakarta/hang-tuah-kopi-dan-toastery-kelapa-gading-2\"))"
   ]
  },
  {
   "cell_type": "code",
   "execution_count": 92,
   "metadata": {},
   "outputs": [],
   "source": [
    "hangtuah_kopi.to_csv(\"hangtuah_kopi.csv\")"
   ]
  },
  {
   "cell_type": "code",
   "execution_count": null,
   "metadata": {},
   "outputs": [],
   "source": []
  }
 ]
}